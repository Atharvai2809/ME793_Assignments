{
 "cells": [
  {
   "cell_type": "code",
   "execution_count": 72,
   "id": "0257c8ab",
   "metadata": {},
   "outputs": [],
   "source": [
    "import matplotlib.pyplot as plt\n",
    "import numpy as np\n",
    "import pandas as pd\n",
    "from sklearn.preprocessing import StandardScaler, MinMaxScaler\n",
    "from sklearn.linear_model import LinearRegression\n",
    "from sklearn.model_selection import train_test_split\n",
    "from sklearn.metrics import mean_squared_error\n"
   ]
  },
  {
   "cell_type": "markdown",
   "id": "ae81f48d",
   "metadata": {},
   "source": [
    "## Assignment 5 "
   ]
  },
  {
   "cell_type": "code",
   "execution_count": null,
   "id": "4866a4ea",
   "metadata": {},
   "outputs": [],
   "source": []
  },
  {
   "cell_type": "code",
   "execution_count": 73,
   "id": "13269cb4",
   "metadata": {},
   "outputs": [],
   "source": [
    "df = pd.read_csv(\"material_data_Alankar.txt\") \n",
    "  \n",
    "# storing this dataframe in a csv file \n",
    "dataframe1.to_csv('material_data_Alankar.csv', index = None)"
   ]
  },
  {
   "cell_type": "code",
   "execution_count": 74,
   "id": "9f3dacb9",
   "metadata": {},
   "outputs": [],
   "source": [
    "EN=df['Electronegativity']\n",
    "Atomic_Radius=df['Atomic_Radius']\n",
    "density=df['Density']\n",
    "thermal_C=df['Thermal_Conductivity']\n",
    "\n",
    "features = np.column_stack((EN,Atomic_Radius, density))\n",
    "scaler = StandardScaler()\n",
    "normalized_features = scaler.fit_transform(features)\n",
    "\n",
    "scaler = StandardScaler()\n",
    "normalized_target = scaler.fit_transform(thermal_C.values.reshape(-1, 1))\n",
    "\n",
    "\n",
    "\n",
    "\n",
    "\n"
   ]
  },
  {
   "cell_type": "code",
   "execution_count": 75,
   "id": "5335b5cb",
   "metadata": {},
   "outputs": [],
   "source": [
    "X_train, X_test, y_train, y_test = train_test_split(\n",
    "    normalized_features,normalized_target , test_size=0.05, random_state=0)"
   ]
  },
  {
   "cell_type": "code",
   "execution_count": 76,
   "id": "a47520d8",
   "metadata": {},
   "outputs": [],
   "source": [
    "def relu(z): # takes a numpy array as input and returns activated array\n",
    "    a = np.maximum(0,z)\n",
    "    return a"
   ]
  },
  {
   "cell_type": "code",
   "execution_count": 77,
   "id": "ed98990b",
   "metadata": {},
   "outputs": [],
   "source": [
    "def initialize_params(layer_sizes): #takes a list of the layer sizes as input and returns initialized parameters\n",
    "    params = {}\n",
    "    for i in range(1, len(layer_sizes)):\n",
    "        params['W' + str(i)] = np.random.randn(layer_sizes[i], layer_sizes[i-1])*0.01\n",
    "        # rand(d0,d1) will return an array of size d0 x d1.\n",
    "        params['B' + str(i)] = np.random.randn(layer_sizes[i],1)*0.01\n",
    "    return params"
   ]
  },
  {
   "cell_type": "code",
   "execution_count": 78,
   "id": "b727731d",
   "metadata": {},
   "outputs": [],
   "source": [
    "def compute_cost(values, Y_train): #takes true values and dictionary having activations of \n",
    "# all layers as input and returns cost\n",
    "    layers = len(values)//2\n",
    "    Y_pred = values['A' + str(layers)]\n",
    "    cost = 1/(2*len(Y_train)) * np.sum(np.square(Y_pred - Y_train))\n",
    "    return cost"
   ]
  },
  {
   "cell_type": "code",
   "execution_count": 79,
   "id": "9dda558d",
   "metadata": {},
   "outputs": [],
   "source": [
    "def forward_propagation(X_train, params):\n",
    "    #takes input training features and parameters as input and returns a dictionary \n",
    "# containining the numpy arrays of activations of all layers\n",
    "    layers = len(params)//2\n",
    "    values = {}\n",
    "    for i in range(1, layers+1):\n",
    "        if i==1: # transformation from input layer\n",
    "            values['Z' + str(i)] = np.dot(params['W' + str(i)], X_train) + params['B' + str(i)]\n",
    "            values['A' + str(i)] = relu(values['Z' + str(i)])\n",
    "        else: # transformation from non-input layer\n",
    "            values['Z' + str(i)] = np.dot(params['W' + str(i)], values['A' + str(i-1)]) + params['B' + str(i)]\n",
    "            if i==layers: # Do not use activation function in the output layer\n",
    "                values['A' + str(i)] = values['Z' + str(i)]\n",
    "            else: # use activation function for non-output layers\n",
    "                values['A' + str(i)] = relu(values['Z' + str(i)])\n",
    "    return values"
   ]
  },
  {
   "cell_type": "code",
   "execution_count": 80,
   "id": "270ab498",
   "metadata": {},
   "outputs": [],
   "source": [
    "def backward_propagation(params, values, X_train, Y_train): \n",
    "    #takes parameters, activations, training set as input and returns gradients wrt parameters\n",
    "    layers = len(params)//2\n",
    "    m = len(Y_train)\n",
    "    grads = {}\n",
    "    for i in range(layers,0,-1):\n",
    "        if i==layers:\n",
    "            dA = 1/m * (values['A' + str(i)] - Y_train)\n",
    "            dZ = dA\n",
    "        else:\n",
    "            dA = np.dot(params['W' + str(i+1)].T, dZ)\n",
    "            dZ = np.multiply(dA, np.where(values['A' + str(i)]>=0, 1, 0))\n",
    "        if i==1:\n",
    "            grads['W' + str(i)] = 1/m * np.dot(dZ, X_train.T)\n",
    "            grads['B' + str(i)] = 1/m * np.sum(dZ, axis=1, keepdims=True)\n",
    "        else:\n",
    "            grads['W' + str(i)] = 1/m * np.dot(dZ,values['A' + str(i-1)].T)\n",
    "            grads['B' + str(i)] = 1/m * np.sum(dZ, axis=1, keepdims=True)\n",
    "    return grads"
   ]
  },
  {
   "cell_type": "code",
   "execution_count": 81,
   "id": "0750fe6d",
   "metadata": {},
   "outputs": [],
   "source": [
    "def update_params(params, grads, learning_rate): \n",
    "    #takes parameters, gradients and learning rate as input and returns updated parameters\n",
    "    layers = len(params)//2\n",
    "    params_updated = {}\n",
    "    for i in range(1,layers+1):\n",
    "        params_updated['W' + str(i)] = params['W' + str(i)] - learning_rate * grads['W' + str(i)]\n",
    "        params_updated['B' + str(i)] = params['B' + str(i)] - learning_rate * grads['B' + str(i)]\n",
    "    return params_updated"
   ]
  },
  {
   "cell_type": "code",
   "execution_count": 82,
   "id": "7a66afd2",
   "metadata": {},
   "outputs": [],
   "source": [
    "def compute_accuracy(X_train, X_test, Y_train, Y_test, params): #compute accuracy on test and training data given learnt parameters\n",
    "    values_train = forward_propagation(X_train.T, params)\n",
    "    values_test = forward_propagation(X_test.T, params)\n",
    "    train_acc = np.sqrt(mean_squared_error(Y_train, values_train['A' + str(len(layer_sizes)-1)].T))\n",
    "    test_acc = np.sqrt(mean_squared_error(Y_test, values_test['A' + str(len(layer_sizes)-1)].T))\n",
    "    return train_acc, test_acc"
   ]
  },
  {
   "cell_type": "code",
   "execution_count": 83,
   "id": "776dfcb4",
   "metadata": {},
   "outputs": [],
   "source": [
    "def predict(X, params):  #predict on new array X given learnt parameters\n",
    "    values = forward_propagation(X.T, params)\n",
    "    predictions = values['A' + str(len(values)//2)].T\n",
    "    return predictions"
   ]
  },
  {
   "cell_type": "code",
   "execution_count": 84,
   "id": "25a7ce2b",
   "metadata": {},
   "outputs": [],
   "source": [
    "def model(X_train, Y_train, layer_sizes, num_iters, learning_rate): #trains the model\n",
    "    params = initialize_params(layer_sizes)\n",
    "    for i in range(num_iters):\n",
    "        values = forward_propagation(X_train.T, params)\n",
    "        cost = compute_cost(values, Y_train.T)\n",
    "        grads = backward_propagation(params, values,X_train.T, Y_train.T)\n",
    "        params = update_params(params, grads, learning_rate)\n",
    "        #print('Cost at iteration ' + str(i+1) + ' = ' + str(cost) + '\\n')\n",
    "    return params"
   ]
  },
  {
   "cell_type": "code",
   "execution_count": 85,
   "id": "87541fdb",
   "metadata": {},
   "outputs": [],
   "source": [
    "layer_sizes=np.array([3,7,4,8,1])"
   ]
  },
  {
   "cell_type": "code",
   "execution_count": 86,
   "id": "d2dcbb39",
   "metadata": {},
   "outputs": [],
   "source": [
    "params=model(X_train, y_train, layer_sizes, 1000, 0.01)"
   ]
  },
  {
   "cell_type": "code",
   "execution_count": 87,
   "id": "7e1ef7fb",
   "metadata": {},
   "outputs": [],
   "source": [
    "train_acc,test_acc=compute_accuracy(X_train, X_test, y_train, y_test, params)"
   ]
  },
  {
   "cell_type": "code",
   "execution_count": 88,
   "id": "77bd3eac",
   "metadata": {},
   "outputs": [
    {
     "data": {
      "text/plain": [
       "1.0142356019944945"
      ]
     },
     "execution_count": 88,
     "metadata": {},
     "output_type": "execute_result"
    }
   ],
   "source": [
    "train_acc"
   ]
  },
  {
   "cell_type": "code",
   "execution_count": 89,
   "id": "f791a568",
   "metadata": {},
   "outputs": [
    {
     "data": {
      "text/plain": [
       "0.6956408821011179"
      ]
     },
     "execution_count": 89,
     "metadata": {},
     "output_type": "execute_result"
    }
   ],
   "source": [
    "test_acc"
   ]
  },
  {
   "cell_type": "markdown",
   "id": "54f733cf",
   "metadata": {},
   "source": [
    "### The RMSE error for training data is 1.0142356088990288"
   ]
  },
  {
   "cell_type": "markdown",
   "id": "23042b9c",
   "metadata": {},
   "source": [
    "### The RMSE error for test data is  0.6956408701181552"
   ]
  },
  {
   "cell_type": "code",
   "execution_count": 90,
   "id": "6f6f85ce",
   "metadata": {},
   "outputs": [],
   "source": [
    "Predicted_Thermal_C= predict(X_test, params)  #predict on new array X given learnt parameters\n"
   ]
  },
  {
   "cell_type": "code",
   "execution_count": 91,
   "id": "546de82b",
   "metadata": {},
   "outputs": [
    {
     "data": {
      "text/plain": [
       "array([[0.00155144],\n",
       "       [0.00155147],\n",
       "       [0.00155147],\n",
       "       [0.00155152],\n",
       "       [0.00155147]])"
      ]
     },
     "execution_count": 91,
     "metadata": {},
     "output_type": "execute_result"
    }
   ],
   "source": [
    "Predicted_Thermal_C"
   ]
  },
  {
   "cell_type": "code",
   "execution_count": 92,
   "id": "316412da",
   "metadata": {},
   "outputs": [],
   "source": [
    "unscaled_predicted = scaler.inverse_transform(Predicted_Thermal_C)\n",
    "unscaled_y_test=scaler.inverse_transform(y_test)"
   ]
  },
  {
   "cell_type": "code",
   "execution_count": 97,
   "id": "a1b08742",
   "metadata": {},
   "outputs": [
    {
     "data": {
      "image/png": "[encoded data removed]",
      "text/plain": [
       "<Figure size 640x480 with 1 Axes>"
      ]
     },
     "metadata": {},
     "output_type": "display_data"
    }
   ],
   "source": [
    "plt.plot(unscaled_y_test,label='true value')\n",
    "plt.plot(unscaled_predicted,label='Predicted value')\n",
    "plt.legend()\n",
    "plt.show()\n"
   ]
  },
  {
   "cell_type": "markdown",
   "id": "65497b6c",
   "metadata": {},
   "source": [
    "### Plot for Predicted thermal conductivity vs True thermal conductivity"
   ]
  },
  {
   "cell_type": "code",
   "execution_count": 107,
   "id": "f4b94eb0",
   "metadata": {},
   "outputs": [
    {
     "data": {
      "image/png": "[encoded data removed]",
      "text/plain": [
       "<Figure size 640x480 with 1 Axes>"
      ]
     },
     "metadata": {},
     "output_type": "display_data"
    }
   ],
   "source": [
    "plt.plot(unscaled_y_test,unscaled_predicted)\n",
    "plt.title('Predicted thermal conductivity vs True thermal conductivity',fontsize=5.5)\n",
    "plt.xlabel('True Value of Thermal Conductivity')\n",
    "plt.ylabel('Predicted Vlue of Thermal Conductivity')\n",
    "\n",
    "plt.show()"
   ]
  },
  {
   "cell_type": "code",
   "execution_count": null,
   "id": "d65f142c",
   "metadata": {},
   "outputs": [],
   "source": []
  },
  {
   "cell_type": "code",
   "execution_count": null,
   "id": "11b117f8",
   "metadata": {},
   "outputs": [],
   "source": []
  }
 ],
 "metadata": {
  "kernelspec": {
   "display_name": "Python 3 (ipykernel)",
   "language": "python",
   "name": "python3"
  },
  "language_info": {
   "codemirror_mode": {
    "name": "ipython",
    "version": 3
   },
   "file_extension": ".py",
   "mimetype": "text/x-python",
   "name": "python",
   "nbconvert_exporter": "python",
   "pygments_lexer": "ipython3",
   "version": "3.9.13"
  }
 },
 "nbformat": 4,
 "nbformat_minor": 5
}
